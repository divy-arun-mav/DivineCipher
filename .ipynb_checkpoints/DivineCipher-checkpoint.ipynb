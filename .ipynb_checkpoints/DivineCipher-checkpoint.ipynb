{
 "cells": [
  {
   "cell_type": "code",
   "execution_count": 149,
   "id": "47f2b699",
   "metadata": {},
   "outputs": [
    {
     "name": "stdout",
     "output_type": "stream",
     "text": [
      "Key k1:  24\n",
      "Plaintext: ARUN\n",
      "Cipher text: ('GAJP', 24)\n"
     ]
    }
   ],
   "source": [
    "import numpy as np\n",
    "\n",
    "def encryption(plain_text):\n",
    "    # Define ALPHABETS as an array of letters from 'a' to 'z'\n",
    "    ALPHABETS = [chr(i) for i in range(ord('A'), ord('Z')+1)]\n",
    "    \n",
    "    # Calculate key1 as the sum of ASCII values of the plain text\n",
    "    key1 = sum(ord(char) for char in plain_text) % 26\n",
    "    print(\"Key k1: \",key1)\n",
    "    \n",
    "    # Define constants k2 and k3\n",
    "    k2, k3 = 7, 2\n",
    "    \n",
    "    P=[(ALPHABETS.index(char)) for char in plain_text]\n",
    "    \n",
    "    # Step 1: XOR operation with length\n",
    "    p1 = [(ALPHABETS.index(char) ^ len(plain_text)) % 26 for char in plain_text]\n",
    "    \n",
    "    # Step 2: Add key1 to each element of p1\n",
    "    p2 = [(p_val + key1) % 26 for p_val in p1]\n",
    "    \n",
    "    # Step 3: Create a matrix p3 and rotate it by 90 degrees clockwise\n",
    "    matrix_size = int(np.ceil(len(p2) ** 0.5))\n",
    "    p3 = np.array(p2 + [0] * (matrix_size ** 2 - len(p2))).reshape(matrix_size, matrix_size)\n",
    "    p3 = np.rot90(p3, k=-1)  # Rotate by 90 degrees clockwise\n",
    "    \n",
    "    # Flatten the matrix p3 and convert it to p4\n",
    "    p4 = np.array([((p_val ^ k3) * k2) % 26 for p_val in p3.flatten()])\n",
    "    \n",
    "    # Convert numerical values back to characters\n",
    "    cipher_text = ''.join(ALPHABETS[p_val] for p_val in p4)\n",
    "    \n",
    "    return cipher_text, key1\n",
    "\n",
    "# Example usage\n",
    "plain_text = 'ARUN'\n",
    "cipher_text = encryption(plain_text)\n",
    "print(\"Plaintext:\", plain_text)\n",
    "print(\"Cipher text:\", cipher_text)"
   ]
  },
  {
   "cell_type": "code",
   "execution_count": 152,
   "id": "f13d6a74",
   "metadata": {},
   "outputs": [
    {
     "name": "stdout",
     "output_type": "stream",
     "text": [
      "Enter the cipher text: GAJP\n",
      "Enter the key: 24\n",
      "Cipher text: GAJP\n",
      "\n",
      "Decryption:\n",
      "[0, 17, 20, 13]\n",
      "Decrypted text: ARUN\n"
     ]
    }
   ],
   "source": [
    "import numpy as np\n",
    "\n",
    "def decryption(cipher_text, key1):\n",
    "    # Define ALPHABETS as an array of letters from 'A' to 'Z'\n",
    "    ALPHABETS = [chr(i) for i in range(ord('A'), ord('Z')+1)]\n",
    "    \n",
    "    # Define constants k2 and k3\n",
    "    k2, k3 = 7, 2\n",
    "    \n",
    "    # Step 1: Convert the characters of the cipher text back to numerical values\n",
    "    p4 = [(ALPHABETS.index(char) - ALPHABETS.index('A')) % 26 for char in cipher_text]\n",
    "    \n",
    "    # Step 2: Reverse multiplication by k2 and XOR by k3\n",
    "    matrix_size = int(np.ceil(len(p4) ** 0.5))\n",
    "    p3 = np.array(p4).reshape(matrix_size, matrix_size)\n",
    "    p3 = np.array([((p_val * 15) % 26) ^ k3 for p_val in p3.flatten()]).reshape(matrix_size, matrix_size)\n",
    "    p3 = np.rot90(p3, k=1)\n",
    "    \n",
    "    # Step 3: Reverse the operation performed in step 2\n",
    "    p2 = [(p_val - key1) % 26 for p_val in p3.flatten()]\n",
    "    \n",
    "    # Step 4: Reverse the XOR operation with the length performed in step 1\n",
    "    p1 = [((p_val ^ len(cipher_text))) % 26 for p_val in p2]\n",
    "    print(p1)\n",
    "    \n",
    "    # Convert numerical values back to characters\n",
    "    decrypted_text = ''.join(ALPHABETS[p_val] for p_val in p1)\n",
    "    \n",
    "    return decrypted_text\n",
    "\n",
    "# Function to find modular multiplicative inverse\n",
    "def modinv(a, m):\n",
    "    for x in range(1, m):\n",
    "        if (a * x) % m == 1:\n",
    "            return x\n",
    "    return None\n",
    "\n",
    "\n",
    "# Example usage\n",
    "cipher_text = input(\"Enter the cipher text: \")\n",
    "key1 = int(input(\"Enter the key: \"))\n",
    "print(\"Cipher text:\", cipher_text)\n",
    "\n",
    "print(\"\\nDecryption:\")\n",
    "decrypted_text = decryption(cipher_text, key1)\n",
    "print(\"Decrypted text:\", decrypted_text)"
   ]
  },
  {
   "cell_type": "code",
   "execution_count": null,
   "id": "37368191",
   "metadata": {},
   "outputs": [],
   "source": []
  },
  {
   "cell_type": "code",
   "execution_count": null,
   "id": "e64bfd12",
   "metadata": {},
   "outputs": [],
   "source": []
  }
 ],
 "metadata": {
  "kernelspec": {
   "display_name": "Python 3 (ipykernel)",
   "language": "python",
   "name": "python3"
  },
  "language_info": {
   "codemirror_mode": {
    "name": "ipython",
    "version": 3
   },
   "file_extension": ".py",
   "mimetype": "text/x-python",
   "name": "python",
   "nbconvert_exporter": "python",
   "pygments_lexer": "ipython3",
   "version": "3.11.4"
  }
 },
 "nbformat": 4,
 "nbformat_minor": 5
}
